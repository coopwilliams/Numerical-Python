{
  "nbformat": 4,
  "nbformat_minor": 0,
  "metadata": {
    "colab": {
      "name": "Chapter2",
      "provenance": [],
      "collapsed_sections": [],
      "authorship_tag": "ABX9TyNQI2wNhEJo9APiweE8F1CP",
      "include_colab_link": true
    },
    "kernelspec": {
      "name": "python3",
      "display_name": "Python 3"
    }
  },
  "cells": [
    {
      "cell_type": "markdown",
      "metadata": {
        "id": "view-in-github",
        "colab_type": "text"
      },
      "source": [
        "<a href=\"https://colab.research.google.com/github/coopwilliams/Numerical-Python/blob/master/Chapter2.ipynb\" target=\"_parent\"><img src=\"https://colab.research.google.com/assets/colab-badge.svg\" alt=\"Open In Colab\"/></a>"
      ]
    },
    {
      "cell_type": "code",
      "metadata": {
        "id": "ZDNDknr8o6o8",
        "colab_type": "code",
        "colab": {}
      },
      "source": [
        "import numpy as np\n",
        "\n",
        "data = np.array([[1, 2], [3, 4], [5,6]])"
      ],
      "execution_count": 0,
      "outputs": []
    },
    {
      "cell_type": "code",
      "metadata": {
        "id": "5FLzjSLtphLk",
        "colab_type": "code",
        "colab": {}
      },
      "source": [
        "#meshgrid can be used to evaluate functions over two variables or more\n",
        "X = np.array([1, 2, 1])\n",
        "Y = np.array([1, 2, 3])\n",
        "Z = np.array([-1, 0, 1])\n",
        "a, b, c = np.meshgrid(X, Y, Z)"
      ],
      "execution_count": 0,
      "outputs": []
    },
    {
      "cell_type": "code",
      "metadata": {
        "id": "mYZy25wrsC6L",
        "colab_type": "code",
        "colab": {
          "base_uri": "https://localhost:8080/",
          "height": 217
        },
        "outputId": "7ef70139-57b8-4153-c040-cbd07671a216"
      },
      "source": [
        "a"
      ],
      "execution_count": 6,
      "outputs": [
        {
          "output_type": "execute_result",
          "data": {
            "text/plain": [
              "array([[[1, 1, 1],\n",
              "        [2, 2, 2],\n",
              "        [1, 1, 1]],\n",
              "\n",
              "       [[1, 1, 1],\n",
              "        [2, 2, 2],\n",
              "        [1, 1, 1]],\n",
              "\n",
              "       [[1, 1, 1],\n",
              "        [2, 2, 2],\n",
              "        [1, 1, 1]]])"
            ]
          },
          "metadata": {
            "tags": []
          },
          "execution_count": 6
        }
      ]
    },
    {
      "cell_type": "code",
      "metadata": {
        "id": "v8HkdWpMsd7l",
        "colab_type": "code",
        "colab": {
          "base_uri": "https://localhost:8080/",
          "height": 126
        },
        "outputId": "b676e0ba-0622-450f-9110-30b0cf13d3d4"
      },
      "source": [
        "# slicing multidimensional arrays\n",
        "f = lambda m, n: n + 15 * m\n",
        "A = np.fromfunction(f, (6, 6), dtype=int)\n",
        "A"
      ],
      "execution_count": 10,
      "outputs": [
        {
          "output_type": "execute_result",
          "data": {
            "text/plain": [
              "array([[ 0,  1,  2,  3,  4,  5],\n",
              "       [15, 16, 17, 18, 19, 20],\n",
              "       [30, 31, 32, 33, 34, 35],\n",
              "       [45, 46, 47, 48, 49, 50],\n",
              "       [60, 61, 62, 63, 64, 65],\n",
              "       [75, 76, 77, 78, 79, 80]])"
            ]
          },
          "metadata": {
            "tags": []
          },
          "execution_count": 10
        }
      ]
    },
    {
      "cell_type": "code",
      "metadata": {
        "id": "51I3a0Dttmz5",
        "colab_type": "code",
        "colab": {
          "base_uri": "https://localhost:8080/",
          "height": 53
        },
        "outputId": "d19acb09-229e-4eef-b4af-9adc643f9a4d"
      },
      "source": [
        "A[:2, :2]"
      ],
      "execution_count": 11,
      "outputs": [
        {
          "output_type": "execute_result",
          "data": {
            "text/plain": [
              "array([[ 0,  1],\n",
              "       [15, 16]])"
            ]
          },
          "metadata": {
            "tags": []
          },
          "execution_count": 11
        }
      ]
    },
    {
      "cell_type": "code",
      "metadata": {
        "id": "1ADNTffBt6OE",
        "colab_type": "code",
        "colab": {
          "base_uri": "https://localhost:8080/",
          "height": 53
        },
        "outputId": "45346c53-cf73-4d94-a8ad-4eae07d46984"
      },
      "source": [
        "A[1:3, 2:]"
      ],
      "execution_count": 12,
      "outputs": [
        {
          "output_type": "execute_result",
          "data": {
            "text/plain": [
              "array([[17, 18, 19, 20],\n",
              "       [32, 33, 34, 35]])"
            ]
          },
          "metadata": {
            "tags": []
          },
          "execution_count": 12
        }
      ]
    },
    {
      "cell_type": "code",
      "metadata": {
        "id": "sY22OPfiuBXu",
        "colab_type": "code",
        "colab": {
          "base_uri": "https://localhost:8080/",
          "height": 72
        },
        "outputId": "6ee45899-690d-41d5-9882-9b3ce487a31c"
      },
      "source": [
        "A[1::2, 1::2]\n"
      ],
      "execution_count": 14,
      "outputs": [
        {
          "output_type": "execute_result",
          "data": {
            "text/plain": [
              "array([[16, 18, 20],\n",
              "       [46, 48, 50],\n",
              "       [76, 78, 80]])"
            ]
          },
          "metadata": {
            "tags": []
          },
          "execution_count": 14
        }
      ]
    },
    {
      "cell_type": "code",
      "metadata": {
        "id": "Z2HaJJEPxEQD",
        "colab_type": "code",
        "colab": {
          "base_uri": "https://localhost:8080/",
          "height": 53
        },
        "outputId": "73d07e98-f9d4-4cc2-b57f-8b317a147a14"
      },
      "source": [
        "# I wonder if there's a way to slice out a \"checkerboard\" from an array?\n",
        "A[np.indices(A.shape).sum(axis=0) % 2 == 1]\n",
        "# Ok this kind of works, but reshaping it won't work with odd-numbered axes"
      ],
      "execution_count": 29,
      "outputs": [
        {
          "output_type": "execute_result",
          "data": {
            "text/plain": [
              "array([ 1,  3,  5, 15, 17, 19, 31, 33, 35, 45, 47, 49, 61, 63, 65, 75, 77,\n",
              "       79])"
            ]
          },
          "metadata": {
            "tags": []
          },
          "execution_count": 29
        }
      ]
    },
    {
      "cell_type": "code",
      "metadata": {
        "id": "P1cS0ceuuJ3q",
        "colab_type": "code",
        "colab": {
          "base_uri": "https://localhost:8080/",
          "height": 163
        },
        "outputId": "c0b77ea6-16d6-4d07-df80-0a0ccae262a9"
      },
      "source": [
        "# checkerboard\n",
        "np.indices((8, 8)).sum(axis=0) % 2"
      ],
      "execution_count": 31,
      "outputs": [
        {
          "output_type": "execute_result",
          "data": {
            "text/plain": [
              "array([[0, 1, 0, 1, 0, 1, 0, 1],\n",
              "       [1, 0, 1, 0, 1, 0, 1, 0],\n",
              "       [0, 1, 0, 1, 0, 1, 0, 1],\n",
              "       [1, 0, 1, 0, 1, 0, 1, 0],\n",
              "       [0, 1, 0, 1, 0, 1, 0, 1],\n",
              "       [1, 0, 1, 0, 1, 0, 1, 0],\n",
              "       [0, 1, 0, 1, 0, 1, 0, 1],\n",
              "       [1, 0, 1, 0, 1, 0, 1, 0]])"
            ]
          },
          "metadata": {
            "tags": []
          },
          "execution_count": 31
        }
      ]
    },
    {
      "cell_type": "code",
      "metadata": {
        "id": "iGhsglqiuhQL",
        "colab_type": "code",
        "colab": {
          "base_uri": "https://localhost:8080/",
          "height": 163
        },
        "outputId": "29fd8804-c3fe-4c12-8194-b9c8f3f5e74f"
      },
      "source": [
        "# weird checkerboard\n",
        "np.indices((8, 8)).prod(axis=0) % 4"
      ],
      "execution_count": 28,
      "outputs": [
        {
          "output_type": "execute_result",
          "data": {
            "text/plain": [
              "array([[0, 0, 0, 0, 0, 0, 0, 0],\n",
              "       [0, 1, 2, 3, 0, 1, 2, 3],\n",
              "       [0, 2, 0, 2, 0, 2, 0, 2],\n",
              "       [0, 3, 2, 1, 0, 3, 2, 1],\n",
              "       [0, 0, 0, 0, 0, 0, 0, 0],\n",
              "       [0, 1, 2, 3, 0, 1, 2, 3],\n",
              "       [0, 2, 0, 2, 0, 2, 0, 2],\n",
              "       [0, 3, 2, 1, 0, 3, 2, 1]])"
            ]
          },
          "metadata": {
            "tags": []
          },
          "execution_count": 28
        }
      ]
    },
    {
      "cell_type": "code",
      "metadata": {
        "id": "p2hMOL_dvu9M",
        "colab_type": "code",
        "colab": {
          "base_uri": "https://localhost:8080/",
          "height": 508
        },
        "outputId": "9d368e74-6eb5-40c4-afb0-0bedc8a35671"
      },
      "source": [
        "# can we sum along arbitrary axes?\n",
        "Q = np.indices((4, 4, 4, 4, 4)).sum(axis=5)\n",
        "Q[:2, :2, :2, :2, :2]\n",
        "\n",
        "# yes."
      ],
      "execution_count": 39,
      "outputs": [
        {
          "output_type": "execute_result",
          "data": {
            "text/plain": [
              "array([[[[[0, 0],\n",
              "          [0, 0]],\n",
              "\n",
              "         [[0, 0],\n",
              "          [0, 0]]],\n",
              "\n",
              "\n",
              "        [[[4, 4],\n",
              "          [4, 4]],\n",
              "\n",
              "         [[4, 4],\n",
              "          [4, 4]]]],\n",
              "\n",
              "\n",
              "\n",
              "       [[[[0, 0],\n",
              "          [0, 0]],\n",
              "\n",
              "         [[4, 4],\n",
              "          [4, 4]]],\n",
              "\n",
              "\n",
              "        [[[0, 0],\n",
              "          [0, 0]],\n",
              "\n",
              "         [[4, 4],\n",
              "          [4, 4]]]]])"
            ]
          },
          "metadata": {
            "tags": []
          },
          "execution_count": 39
        }
      ]
    },
    {
      "cell_type": "code",
      "metadata": {
        "id": "v2S59pA3yZH7",
        "colab_type": "code",
        "colab": {
          "base_uri": "https://localhost:8080/",
          "height": 53
        },
        "outputId": "f01fff2a-0ce0-40ea-94fa-3dc8152965a6"
      },
      "source": [
        "# Arithmetic operations\n",
        "x = np.array([[1, 2], [3, 4]])\n",
        "y = np.array([[5, 6], [7, 8]])\n",
        "x + y\n"
      ],
      "execution_count": 40,
      "outputs": [
        {
          "output_type": "execute_result",
          "data": {
            "text/plain": [
              "array([[ 6,  8],\n",
              "       [10, 12]])"
            ]
          },
          "metadata": {
            "tags": []
          },
          "execution_count": 40
        }
      ]
    },
    {
      "cell_type": "code",
      "metadata": {
        "id": "1GxjbGGUzzLW",
        "colab_type": "code",
        "colab": {}
      },
      "source": [
        ""
      ],
      "execution_count": 0,
      "outputs": []
    }
  ]
}